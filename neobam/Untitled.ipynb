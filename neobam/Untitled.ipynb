{
 "cells": [
  {
   "cell_type": "code",
   "execution_count": null,
   "id": "9f926510-226e-42c3-9345-a1c1d25600ad",
   "metadata": {},
   "outputs": [],
   "source": []
  },
  {
   "cell_type": "code",
   "execution_count": 32,
   "id": "4a724397-a943-4f21-aedd-b9cc920692ed",
   "metadata": {},
   "outputs": [
    {
     "name": "stdout",
     "output_type": "stream",
     "text": [
      "[1] \"Read was successful...\"\n"
     ]
    },
    {
     "name": "stderr",
     "output_type": "stream",
     "text": [
      "hash mismatch so recompiling; make sure Stan code ends with a blank line\n",
      "\n",
      "code for methods in class “Rcpp_stan_fit4model2fb85515f63ca9_neobam_stan_engine” was not checked for suspicious field assignments (recommended package ‘codetools’ not available?)\n",
      "\n",
      "code for methods in class “Rcpp_stan_fit4model2fb85515f63ca9_neobam_stan_engine” was not checked for suspicious field assignments (recommended package ‘codetools’ not available?)\n",
      "\n",
      "Warning message:\n",
      "“There were 1206 divergent transitions after warmup. See\n",
      "https://mc-stan.org/misc/warnings.html#divergent-transitions-after-warmup\n",
      "to find out why this is a problem and how to eliminate them.”\n",
      "Warning message:\n",
      "“There were 66 transitions after warmup that exceeded the maximum treedepth. Increase max_treedepth above 10. See\n",
      "https://mc-stan.org/misc/warnings.html#maximum-treedepth-exceeded”\n",
      "Warning message:\n",
      "“There were 3 chains where the estimated Bayesian Fraction of Missing Information was low. See\n",
      "https://mc-stan.org/misc/warnings.html#bfmi-low”\n",
      "Warning message:\n",
      "“Examine the pairs() plot to diagnose sampling problems\n",
      "”\n",
      "Warning message:\n",
      "“The largest R-hat is 3.09, indicating chains have not mixed.\n",
      "Running the chains for more iterations may help. See\n",
      "https://mc-stan.org/misc/warnings.html#r-hat”\n",
      "Warning message:\n",
      "“Bulk Effective Samples Size (ESS) is too low, indicating posterior means and medians may be unreliable.\n",
      "Running the chains for more iterations may help. See\n",
      "https://mc-stan.org/misc/warnings.html#bulk-ess”\n",
      "Warning message:\n",
      "“Tail Effective Samples Size (ESS) is too low, indicating posterior variances and tail quantiles may be unreliable.\n",
      "Running the chains for more iterations may help. See\n",
      "https://mc-stan.org/misc/warnings.html#tail-ess”\n"
     ]
    },
    {
     "name": "stdout",
     "output_type": "stream",
     "text": [
      "$posterior_Q\n",
      "[1] 4.271561 4.187739 3.900507 4.257744 4.153480 5.182336\n",
      "\n",
      "$posterior_Q_sd\n",
      "[1] 0.09114871\n",
      "\n",
      "$posteriors\n",
      "$posteriors$r\n",
      "$posteriors$r$mean\n",
      " [1] 0.3075809 0.3174782 0.3016406 0.3006191 0.3011969 0.3018458 0.3030820\n",
      " [8] 0.3027473 0.3023359 0.3020120 0.3078223 0.3020445 0.3005941 0.3014105\n",
      "[15] 0.3006984 0.3007408 0.3009720 0.3014787 0.3239035 0.3114873 0.3536684\n",
      "[22] 0.3489327 0.3072232 0.3061663 0.4480381 0.3405936 0.3038040 0.3016353\n",
      "[29] 0.5003554\n",
      "\n",
      "$posteriors$r$sd\n",
      "[1] 5.400242e-05\n",
      "\n",
      "\n",
      "$posteriors$logn\n",
      "$posteriors$logn$mean\n",
      " [1] -3.421906 -3.771416 -3.188759 -3.007697 -4.580696 -3.482338 -3.606450\n",
      " [8] -3.277173 -3.109089 -4.226279 -3.391731 -3.410408 -3.001644 -3.144743\n",
      "[15] -4.601709 -3.339203 -3.009952 -3.030048 -3.496852 -3.601566 -3.592964\n",
      "[22] -3.507850 -3.454395 -3.411321 -4.044391 -3.670019 -3.335231 -3.070132\n",
      "[29] -3.529222\n",
      "\n",
      "$posteriors$logn$sd\n",
      "[1] 0.004419736\n",
      "\n",
      "\n",
      "$posteriors$logWb\n",
      "$posteriors$logWb$mean\n",
      " [1] 5.902885 6.156627 6.036576 6.506587 6.508352 6.797770 6.779930 6.398429\n",
      " [9] 6.784418 6.497450 6.799659 6.331077 6.364183 6.650989 6.692613 6.573351\n",
      "[17] 6.522998 6.660661 7.113797 6.550550 6.760947 6.679853 6.690301 6.404262\n",
      "[25] 6.816680 6.671095 6.468559 6.774435 6.844634\n",
      "\n",
      "$posteriors$logWb$sd\n",
      "[1] 1.079782\n",
      "\n",
      "\n",
      "$posteriors$logDb\n",
      "$posteriors$logDb$mean\n",
      " [1] 3.183567 3.065715 3.451208 2.671919 2.531149 2.450237 2.102512 2.227683\n",
      " [9] 2.505634 2.375753 2.292428 2.211323 2.104668 2.262490 2.325518 2.314786\n",
      "[17] 2.771970 2.356427 2.506851 2.348644 2.424694 2.301299 2.280232 2.289837\n",
      "[25] 2.597906 2.189737 2.123142 2.061811 2.478575\n",
      "\n",
      "$posteriors$logDb$sd\n",
      "[1] 0.4594731\n",
      "\n",
      "\n",
      "$posteriors$logQ\n",
      "$posteriors$logQ$mean\n",
      "[1] 4.271561 4.187739 3.900507 4.257744 4.153480 5.182336\n",
      "\n",
      "$posteriors$logQ$sd\n",
      "[1] 0.09114871\n",
      "\n",
      "\n",
      "\n",
      "[1] \"Total execution time for reach 74262200051 : 1.11376823584239 seconds.\"\n"
     ]
    }
   ],
   "source": [
    "setwd('/nas/cee-water/cjgleason/colin/neobam/')\n",
    "index=32\n",
    "source('run_neobam.R')\n",
    "    "
   ]
  }
 ],
 "metadata": {
  "kernelspec": {
   "display_name": "R [conda env:.conda-supposedlybetter]",
   "language": "R",
   "name": "conda-env-.conda-supposedlybetter-r"
  },
  "language_info": {
   "codemirror_mode": "r",
   "file_extension": ".r",
   "mimetype": "text/x-r-source",
   "name": "R",
   "pygments_lexer": "r",
   "version": "4.2.3"
  }
 },
 "nbformat": 4,
 "nbformat_minor": 5
}
