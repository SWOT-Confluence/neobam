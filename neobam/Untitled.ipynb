{
 "cells": [
  {
   "cell_type": "code",
   "execution_count": null,
   "id": "9f926510-226e-42c3-9345-a1c1d25600ad",
   "metadata": {},
   "outputs": [],
   "source": []
  },
  {
   "cell_type": "code",
   "execution_count": 34,
   "id": "4a724397-a943-4f21-aedd-b9cc920692ed",
   "metadata": {},
   "outputs": [
    {
     "name": "stdout",
     "output_type": "stream",
     "text": [
      "[1] \"Read was successful...\"\n"
     ]
    },
    {
     "name": "stderr",
     "output_type": "stream",
     "text": [
      "recompiling to avoid crashing R session\n",
      "\n",
      "code for methods in class “Rcpp_stan_fit4model2fb855a73ed97_neobam_stan_engine” was not checked for suspicious field assignments (recommended package ‘codetools’ not available?)\n",
      "\n",
      "code for methods in class “Rcpp_stan_fit4model2fb855a73ed97_neobam_stan_engine” was not checked for suspicious field assignments (recommended package ‘codetools’ not available?)\n",
      "\n",
      "Warning message:\n",
      "“There were 1216 divergent transitions after warmup. See\n",
      "https://mc-stan.org/misc/warnings.html#divergent-transitions-after-warmup\n",
      "to find out why this is a problem and how to eliminate them.”\n",
      "Warning message:\n",
      "“There were 66 transitions after warmup that exceeded the maximum treedepth. Increase max_treedepth above 10. See\n",
      "https://mc-stan.org/misc/warnings.html#maximum-treedepth-exceeded”\n",
      "Warning message:\n",
      "“There were 3 chains where the estimated Bayesian Fraction of Missing Information was low. See\n",
      "https://mc-stan.org/misc/warnings.html#bfmi-low”\n",
      "Warning message:\n",
      "“Examine the pairs() plot to diagnose sampling problems\n",
      "”\n",
      "Warning message:\n",
      "“The largest R-hat is 2.84, indicating chains have not mixed.\n",
      "Running the chains for more iterations may help. See\n",
      "https://mc-stan.org/misc/warnings.html#r-hat”\n",
      "Warning message:\n",
      "“Bulk Effective Samples Size (ESS) is too low, indicating posterior means and medians may be unreliable.\n",
      "Running the chains for more iterations may help. See\n",
      "https://mc-stan.org/misc/warnings.html#bulk-ess”\n",
      "Warning message:\n",
      "“Tail Effective Samples Size (ESS) is too low, indicating posterior variances and tail quantiles may be unreliable.\n",
      "Running the chains for more iterations may help. See\n",
      "https://mc-stan.org/misc/warnings.html#tail-ess”\n"
     ]
    },
    {
     "name": "stdout",
     "output_type": "stream",
     "text": [
      "$posterior_Q\n",
      "[1]  65.01211  59.65653  44.79909  64.06305  57.66884 161.63445\n",
      "\n",
      "$posterior_Q_sd\n",
      "[1] 1.055052\n",
      "\n",
      "$posteriors\n",
      "$posteriors$r\n",
      "$posteriors$r$mean\n",
      " [1] 0.3050296 0.3165319 0.3013994 0.3005926 0.3015133 0.3023896 0.3031663\n",
      " [8] 0.3024178 0.3017783 0.3024777 0.3044541 0.3019141 0.3004608 0.3009039\n",
      "[15] 0.3005364 0.3012390 0.3005401 0.3015571 0.3222794 0.3149300 0.3529670\n",
      "[22] 0.3484220 0.3079747 0.3077839 0.4499323 0.3417087 0.3043743 0.3019383\n",
      "[29] 0.5015771\n",
      "\n",
      "$posteriors$r$sd\n",
      "[1] 5.156832e-05\n",
      "\n",
      "\n",
      "$posteriors$logn\n",
      "$posteriors$logn$mean\n",
      " [1] -3.440133 -3.777569 -3.184030 -3.008216 -4.578500 -3.478340 -3.608731\n",
      " [8] -3.281750 -3.137184 -4.217634 -3.422637 -3.417660 -3.002793 -3.140406\n",
      "[15] -4.601670 -3.328507 -3.009388 -3.036120 -3.507483 -3.569632 -3.596802\n",
      "[22] -3.510405 -3.445222 -3.381788 -4.029069 -3.661813 -3.321044 -3.058895\n",
      "[29] -3.521244\n",
      "\n",
      "$posteriors$logn$sd\n",
      "[1] 0.00435349\n",
      "\n",
      "\n",
      "$posteriors$logWb\n",
      "$posteriors$logWb$mean\n",
      " [1] 6.034107 6.468579 5.899754 6.354809 6.423541 6.429950 6.559971 6.852363\n",
      " [9] 6.566191 6.797787 6.490251 7.064848 6.267143 6.478507 6.766768 6.521585\n",
      "[17] 6.291657 6.220790 6.367683 6.811396 6.171599 6.746323 6.530678 6.736897\n",
      "[25] 6.787513 6.396756 6.583366 6.358780 6.625974\n",
      "\n",
      "$posteriors$logWb$sd\n",
      "[1] 1.024789\n",
      "\n",
      "\n",
      "$posteriors$logDb\n",
      "$posteriors$logDb$mean\n",
      " [1] 3.150480 3.097150 3.350286 2.569762 2.450472 2.446410 2.303836 2.327165\n",
      " [9] 2.292676 2.563675 2.563200 2.455320 2.268741 2.312389 2.185895 2.341446\n",
      "[17] 2.510669 2.325392 2.504225 2.311090 2.071929 2.292099 2.544096 2.286935\n",
      "[25] 2.134496 1.985406 2.089724 2.630856 2.433115\n",
      "\n",
      "$posteriors$logDb$sd\n",
      "[1] 0.4661301\n",
      "\n",
      "\n",
      "$posteriors$logQ\n",
      "$posteriors$logQ$mean\n",
      "[1] 4.174574 4.088604 3.802188 4.159868 4.054717 5.085337\n",
      "\n",
      "$posteriors$logQ$sd\n",
      "[1] 0.05358961\n",
      "\n",
      "\n",
      "\n",
      "[1] \"Total execution time for reach 74262200051 : 1.08532098531723 seconds.\"\n"
     ]
    }
   ],
   "source": [
    "setwd('/nas/cee-water/cjgleason/colin/neobam/')\n",
    "index=32\n",
    "source('run_neobam.R')\n",
    "    "
   ]
  }
 ],
 "metadata": {
  "kernelspec": {
   "display_name": "R [conda env:.conda-supposedlybetter]",
   "language": "R",
   "name": "conda-env-.conda-supposedlybetter-r"
  },
  "language_info": {
   "codemirror_mode": "r",
   "file_extension": ".r",
   "mimetype": "text/x-r-source",
   "name": "R",
   "pygments_lexer": "r",
   "version": "4.2.3"
  }
 },
 "nbformat": 4,
 "nbformat_minor": 5
}
