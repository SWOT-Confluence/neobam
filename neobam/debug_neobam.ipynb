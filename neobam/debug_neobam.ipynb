{
 "cells": [
  {
   "cell_type": "code",
   "execution_count": 1,
   "id": "aecda730-57e7-40d8-a247-89464c099d77",
   "metadata": {},
   "outputs": [
    {
     "name": "stderr",
     "output_type": "stream",
     "text": [
      "\n",
      "Attaching package: ‘dplyr’\n",
      "\n",
      "\n",
      "The following objects are masked from ‘package:stats’:\n",
      "\n",
      "    filter, lag\n",
      "\n",
      "\n",
      "The following objects are masked from ‘package:base’:\n",
      "\n",
      "    intersect, setdiff, setequal, union\n",
      "\n",
      "\n"
     ]
    }
   ],
   "source": [
    "source('/nas/cee-water/cjgleason/colin/neobam/neobam/config.R')\n",
    "source('/nas/cee-water/cjgleason/colin/neobam/neobam/input.R')\n",
    "source('/nas/cee-water/cjgleason/colin/neobam/neobam/neobam_functions.R')\n",
    "source('/nas/cee-water/cjgleason/colin/neobam/neobam/output.R')\n",
    "source('/nas/cee-water/cjgleason/colin/neobam/neobam/prior_functions.R')\n",
    "source('/nas/cee-water/cjgleason/colin/neobam/neobam/config.R')\n",
    "\n"
   ]
  },
  {
   "cell_type": "code",
   "execution_count": 8,
   "id": "abaf26a7-5be6-4626-8864-86f1f14d910c",
   "metadata": {},
   "outputs": [],
   "source": [
    "swot_files=list.files('/nas/cee-water/cjgleason/travis/data/confluence_runs/devset_runs/prediagnostics_testing/baseline/mnt/input/swot',full.names=TRUE)[6000:6500]\n",
    "reach_ids=substr(swot_files,113,123)\n",
    "sos_file=  '/nas/cee-water/cjgleason/travis/data/confluence_runs/devset_runs/prediagnostics_testing/baseline/mnt/input/sos/na_sword_v16_SOS_priors.nc'\n",
    "\n",
    "swot_file=swot_files[3]\n",
    "reach_id=reach_ids[3]"
   ]
  },
  {
   "cell_type": "code",
   "execution_count": 9,
   "id": "a5d45d0e-bdd2-450d-8a8b-a59294044e85",
   "metadata": {},
   "outputs": [
    {
     "name": "stdout",
     "output_type": "stream",
     "text": [
      "[1] \"both invalid\"\n"
     ]
    }
   ],
   "source": [
    "source('/nas/cee-water/cjgleason/colin/neobam/neobam/input.R')\n",
    "data=get_input(swot_file, sos_file, reach_id)\n",
    "saveRDS(data,'/nas/cee-water/cjgleason/colin/test_bam.rds')"
   ]
  },
  {
   "cell_type": "code",
   "execution_count": 10,
   "id": "1d006e19-78b6-40c9-8f73-e4792d503e34",
   "metadata": {},
   "outputs": [
    {
     "ename": "ERROR",
     "evalue": "Error in library(BH, quietly = TRUE, warn.conflicts = FALSE): there is no package called ‘BH’\n",
     "output_type": "error",
     "traceback": [
      "Error in library(BH, quietly = TRUE, warn.conflicts = FALSE): there is no package called ‘BH’\nTraceback:\n",
      "1. run_neobam_stan(neobam_parameters, stan_file)",
      "2. library(BH, quietly = TRUE, warn.conflicts = FALSE)",
      "3. stop(packageNotFoundError(package, lib.loc, sys.call()))"
     ]
    }
   ],
   "source": [
    "data=readRDS('/nas/cee-water/cjgleason/colin/test_bam.rds')\n",
    "source('/nas/cee-water/cjgleason/colin/neobam/neobam/neobam_functions.R')\n",
    "\n",
    " source('/nas/cee-water/cjgleason/colin/neobam/neobam/process.R')\n",
    " process_data(data, '/nas/cee-water/cjgleason/colin/neobam/neobam/neobam_stan_engine.stan')"
   ]
  },
  {
   "cell_type": "raw",
   "id": "c903954e-7622-4599-a446-5767dc1fd1e0",
   "metadata": {},
   "source": []
  }
 ],
 "metadata": {
  "kernelspec": {
   "display_name": "R [conda env:.conda-lightweight]",
   "language": "R",
   "name": "conda-env-.conda-lightweight-r"
  },
  "language_info": {
   "codemirror_mode": "r",
   "file_extension": ".r",
   "mimetype": "text/x-r-source",
   "name": "R",
   "pygments_lexer": "r",
   "version": "4.3.3"
  }
 },
 "nbformat": 4,
 "nbformat_minor": 5
}
