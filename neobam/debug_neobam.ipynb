{
 "cells": [
  {
   "cell_type": "code",
   "execution_count": 18,
   "id": "aecda730-57e7-40d8-a247-89464c099d77",
   "metadata": {},
   "outputs": [],
   "source": [
    "suppressMessages({source('/nas/cee-water/cjgleason/colin/neobam/neobam/config.R')\n",
    "source('/nas/cee-water/cjgleason/colin/neobam/neobam/input.R')\n",
    "source('/nas/cee-water/cjgleason/colin/neobam/neobam/neobam_functions.R')\n",
    "source('/nas/cee-water/cjgleason/colin/neobam/neobam/output.R')\n",
    "source('/nas/cee-water/cjgleason/colin/neobam/neobam/prior_functions.R')\n",
    "source('/nas/cee-water/cjgleason/colin/neobam/neobam/config.R')\n",
    "})\n"
   ]
  },
  {
   "cell_type": "code",
   "execution_count": 19,
   "id": "abaf26a7-5be6-4626-8864-86f1f14d910c",
   "metadata": {},
   "outputs": [],
   "source": [
    "swot_files=list.files('/nas/cee-water/cjgleason/travis/data/confluence_runs/one_off_datapackets/jan_22_25_missing_value_neobam_bug_input_data/',full.names=TRUE)\n",
    "reach_ids=substr(swot_files,121,131)\n",
    " sos_file= swot_files[2]\n",
    "reach_id=reach_ids[1]\n",
    "# index =20\n",
    "swot_file=swot_files[1]"
   ]
  },
  {
   "cell_type": "code",
   "execution_count": 22,
   "id": "62e2b63e-156c-4c02-a964-0f6368541f80",
   "metadata": {},
   "outputs": [
    {
     "data": {
      "text/html": [
       "'/nas/cee-water/cjgleason/travis/data/confluence_runs/one_off_datapackets/jan_22_25_missing_value_neobam_bug_input_data//64248800371_SWOT.nc'"
      ],
      "text/latex": [
       "'/nas/cee-water/cjgleason/travis/data/confluence\\_runs/one\\_off\\_datapackets/jan\\_22\\_25\\_missing\\_value\\_neobam\\_bug\\_input\\_data//64248800371\\_SWOT.nc'"
      ],
      "text/markdown": [
       "'/nas/cee-water/cjgleason/travis/data/confluence_runs/one_off_datapackets/jan_22_25_missing_value_neobam_bug_input_data//64248800371_SWOT.nc'"
      ],
      "text/plain": [
       "[1] \"/nas/cee-water/cjgleason/travis/data/confluence_runs/one_off_datapackets/jan_22_25_missing_value_neobam_bug_input_data//64248800371_SWOT.nc\""
      ]
     },
     "metadata": {},
     "output_type": "display_data"
    },
    {
     "data": {
      "text/html": [
       "'64248800371'"
      ],
      "text/latex": [
       "'64248800371'"
      ],
      "text/markdown": [
       "'64248800371'"
      ],
      "text/plain": [
       "[1] \"64248800371\""
      ]
     },
     "metadata": {},
     "output_type": "display_data"
    },
    {
     "data": {
      "text/html": [
       "'/nas/cee-water/cjgleason/travis/data/confluence_runs/one_off_datapackets/jan_22_25_missing_value_neobam_bug_input_data//sa_sword_v16_SOS_priors.nc'"
      ],
      "text/latex": [
       "'/nas/cee-water/cjgleason/travis/data/confluence\\_runs/one\\_off\\_datapackets/jan\\_22\\_25\\_missing\\_value\\_neobam\\_bug\\_input\\_data//sa\\_sword\\_v16\\_SOS\\_priors.nc'"
      ],
      "text/markdown": [
       "'/nas/cee-water/cjgleason/travis/data/confluence_runs/one_off_datapackets/jan_22_25_missing_value_neobam_bug_input_data//sa_sword_v16_SOS_priors.nc'"
      ],
      "text/plain": [
       "[1] \"/nas/cee-water/cjgleason/travis/data/confluence_runs/one_off_datapackets/jan_22_25_missing_value_neobam_bug_input_data//sa_sword_v16_SOS_priors.nc\""
      ]
     },
     "metadata": {},
     "output_type": "display_data"
    }
   ],
   "source": [
    "swot_file\n",
    "reach_id\n",
    "sos_file"
   ]
  },
  {
   "cell_type": "code",
   "execution_count": 31,
   "id": "a5d45d0e-bdd2-450d-8a8b-a59294044e85",
   "metadata": {},
   "outputs": [
    {
     "name": "stdout",
     "output_type": "stream",
     "text": [
      "[1] \"both invalid\"\n",
      "[1] \"in get_input(), neobam has decided the data are invalid\"\n",
      "NULL\n"
     ]
    }
   ],
   "source": [
    "source('/nas/cee-water/cjgleason/colin/neobam/neobam/input.R')\n",
    "data=get_input(swot_file, sos_file, reach_id)\n",
    "print(data$sos_data$Q_priors)\n",
    "# saveRDS(data,'/nas/cee-water/cjgleason/colin/test_bam.rds')"
   ]
  },
  {
   "cell_type": "code",
   "execution_count": 10,
   "id": "1d006e19-78b6-40c9-8f73-e4792d503e34",
   "metadata": {},
   "outputs": [
    {
     "ename": "ERROR",
     "evalue": "Error in library(BH, quietly = TRUE, warn.conflicts = FALSE): there is no package called ‘BH’\n",
     "output_type": "error",
     "traceback": [
      "Error in library(BH, quietly = TRUE, warn.conflicts = FALSE): there is no package called ‘BH’\nTraceback:\n",
      "1. run_neobam_stan(neobam_parameters, stan_file)",
      "2. library(BH, quietly = TRUE, warn.conflicts = FALSE)",
      "3. stop(packageNotFoundError(package, lib.loc, sys.call()))"
     ]
    }
   ],
   "source": [
    "data=readRDS('/nas/cee-water/cjgleason/colin/test_bam.rds')\n",
    "source('/nas/cee-water/cjgleason/colin/neobam/neobam/neobam_functions.R')\n",
    "\n",
    " source('/nas/cee-water/cjgleason/colin/neobam/neobam/process.R')\n",
    " process_data(data, '/nas/cee-water/cjgleason/colin/neobam/neobam/neobam_stan_engine.stan')"
   ]
  },
  {
   "cell_type": "code",
   "execution_count": 3,
   "id": "9e30537f-7100-4bc7-b01f-0506e75255f3",
   "metadata": {},
   "outputs": [],
   "source": []
  },
  {
   "cell_type": "code",
   "execution_count": 3,
   "id": "08fba658-b365-469b-8398-716297cf1497",
   "metadata": {},
   "outputs": [],
   "source": [
    "swot_files=list.files('/nas/cee-water/cjgleason/nikki/confluence_runs/devsets_ohio_1/zips/swot/',full.names=TRUE)\n",
    "na_swot=swot_files[500:length(swot_files)]"
   ]
  },
  {
   "cell_type": "code",
   "execution_count": 20,
   "id": "228c71b9-9b7a-4d19-8d52-3639fac1da09",
   "metadata": {},
   "outputs": [
    {
     "name": "stdout",
     "output_type": "stream",
     "text": [
      "[1] \"/nas/cee-water/cjgleason/nikki/confluence_runs/devsets_ohio_1/zips/swot//71224300931_SWOT.nc\"\n",
      "NULL\n",
      "      [,1] [,2]     [,3] [,4]     [,5]    [,6]     [,7] [,8]     [,9] [,10]\n",
      " [1,]   NA   NA       NA   NA       NA      NA       NA   NA       NA    NA\n",
      " [2,]   NA   NA       NA   NA       NA      NA       NA   NA       NA    NA\n",
      " [3,]   NA   NA       NA   NA       NA      NA 559.2672   NA       NA    NA\n",
      " [4,]   NA   NA       NA   NA       NA      NA       NA   NA       NA    NA\n",
      " [5,]   NA   NA       NA   NA 630.7352      NA       NA   NA       NA    NA\n",
      " [6,]   NA   NA       NA   NA       NA      NA       NA   NA       NA    NA\n",
      " [7,]   NA   NA       NA   NA       NA      NA       NA   NA       NA    NA\n",
      " [8,]   NA   NA       NA   NA       NA      NA       NA   NA 453.1107    NA\n",
      " [9,]   NA   NA       NA   NA       NA      NA       NA   NA       NA    NA\n",
      "[10,]   NA   NA       NA   NA       NA      NA       NA   NA       NA    NA\n",
      "[11,]   NA   NA       NA   NA       NA      NA       NA   NA       NA    NA\n",
      "[12,]   NA   NA       NA   NA       NA      NA       NA   NA       NA    NA\n",
      "[13,]   NA   NA       NA   NA       NA      NA       NA   NA       NA    NA\n",
      "[14,]   NA   NA       NA   NA       NA      NA       NA   NA       NA    NA\n",
      "[15,]   NA   NA       NA   NA       NA      NA       NA   NA       NA    NA\n",
      "[16,]   NA   NA       NA   NA       NA      NA       NA   NA       NA    NA\n",
      "[17,]   NA   NA       NA   NA       NA      NA       NA   NA       NA    NA\n",
      "[18,]   NA   NA       NA   NA       NA      NA       NA   NA       NA    NA\n",
      "[19,]   NA   NA       NA   NA       NA      NA       NA   NA       NA    NA\n",
      "[20,]   NA   NA       NA   NA       NA 344.094       NA   NA       NA    NA\n",
      "[21,]   NA   NA       NA   NA       NA      NA       NA   NA       NA    NA\n",
      "[22,]   NA   NA       NA   NA       NA      NA       NA   NA       NA    NA\n",
      "[23,]   NA   NA       NA   NA       NA      NA       NA   NA       NA    NA\n",
      "[24,]   NA   NA       NA   NA       NA      NA       NA   NA       NA    NA\n",
      "[25,]   NA   NA       NA   NA       NA      NA       NA   NA       NA    NA\n",
      "[26,]   NA   NA       NA   NA       NA      NA       NA   NA       NA    NA\n",
      "[27,]   NA   NA       NA   NA       NA      NA       NA   NA       NA    NA\n",
      "[28,]   NA   NA       NA   NA       NA      NA       NA   NA       NA    NA\n",
      "[29,]   NA   NA       NA   NA       NA      NA       NA   NA       NA    NA\n",
      "[30,]   NA   NA       NA   NA       NA      NA       NA   NA       NA    NA\n",
      "[31,]   NA   NA       NA   NA       NA      NA       NA   NA       NA    NA\n",
      "[32,]   NA   NA       NA   NA       NA      NA       NA   NA       NA    NA\n",
      "[33,]   NA   NA       NA   NA       NA      NA       NA   NA       NA    NA\n",
      "[34,]   NA   NA       NA   NA       NA      NA       NA   NA       NA    NA\n",
      "[35,]   NA   NA       NA   NA       NA      NA       NA   NA       NA    NA\n",
      "[36,]   NA   NA       NA   NA       NA      NA       NA   NA       NA    NA\n",
      "[37,]   NA   NA       NA   NA       NA      NA       NA   NA       NA    NA\n",
      "[38,]   NA   NA       NA   NA       NA      NA       NA   NA       NA    NA\n",
      "[39,]   NA   NA       NA   NA       NA      NA       NA   NA       NA    NA\n",
      "[40,]   NA   NA 300.3721   NA       NA      NA       NA   NA 788.8906    NA\n",
      "[41,]   NA   NA       NA   NA       NA      NA       NA   NA       NA    NA\n",
      "[42,]   NA   NA       NA   NA       NA      NA       NA   NA       NA    NA\n",
      "[43,]   NA   NA       NA   NA       NA      NA       NA   NA       NA    NA\n",
      "[44,]   NA   NA       NA   NA       NA      NA       NA   NA       NA    NA\n",
      "[45,]   NA   NA       NA   NA       NA      NA       NA   NA       NA    NA\n",
      "[46,]   NA   NA       NA   NA       NA      NA       NA   NA       NA    NA\n",
      "[47,]   NA   NA       NA   NA       NA      NA       NA   NA 601.3201    NA\n",
      "[48,]   NA   NA       NA   NA 312.4343      NA       NA   NA       NA    NA\n",
      "[49,]   NA   NA       NA   NA       NA      NA       NA   NA       NA    NA\n",
      "[50,]   NA   NA       NA   NA       NA      NA       NA   NA       NA    NA\n",
      "[51,]   NA   NA       NA   NA       NA      NA       NA   NA       NA    NA\n",
      "[52,]   NA   NA       NA   NA       NA      NA 434.4834   NA 563.5045    NA\n",
      "[53,]   NA   NA       NA   NA       NA      NA       NA   NA       NA    NA\n",
      "[54,]   NA   NA       NA   NA       NA      NA       NA   NA       NA    NA\n",
      "[55,]   NA   NA       NA   NA       NA      NA       NA   NA       NA    NA\n",
      "[56,]   NA   NA       NA   NA       NA      NA       NA   NA       NA    NA\n",
      "[57,]   NA   NA       NA   NA       NA      NA       NA   NA       NA    NA\n",
      "[58,]   NA   NA       NA   NA       NA      NA       NA   NA       NA    NA\n",
      "      [,11] [,12] [,13] [,14] [,15] [,16] [,17] [,18] [,19] [,20]    [,21]\n",
      " [1,]    NA    NA    NA    NA    NA    NA    NA    NA    NA    NA       NA\n",
      " [2,]    NA    NA    NA    NA    NA    NA    NA    NA    NA    NA       NA\n",
      " [3,]    NA    NA    NA    NA    NA    NA    NA    NA    NA    NA       NA\n",
      " [4,]    NA    NA    NA    NA    NA    NA    NA    NA    NA    NA       NA\n",
      " [5,]    NA    NA    NA    NA    NA    NA    NA    NA    NA    NA       NA\n",
      " [6,]    NA    NA    NA    NA    NA    NA    NA    NA    NA    NA       NA\n",
      " [7,]    NA    NA    NA    NA    NA    NA    NA    NA    NA    NA       NA\n",
      " [8,]    NA    NA    NA    NA    NA    NA    NA    NA    NA    NA       NA\n",
      " [9,]    NA    NA    NA    NA    NA    NA    NA    NA    NA    NA       NA\n",
      "[10,]    NA    NA    NA    NA    NA    NA    NA    NA    NA    NA       NA\n",
      "[11,]    NA    NA    NA    NA    NA    NA    NA    NA    NA    NA       NA\n",
      "[12,]    NA    NA    NA    NA    NA    NA    NA    NA    NA    NA       NA\n",
      "[13,]    NA    NA    NA    NA    NA    NA    NA    NA    NA    NA       NA\n",
      "[14,]    NA    NA    NA    NA    NA    NA    NA    NA    NA    NA       NA\n",
      "[15,]    NA    NA    NA    NA    NA    NA    NA    NA    NA    NA       NA\n",
      "[16,]    NA    NA    NA    NA    NA    NA    NA    NA    NA    NA       NA\n",
      "[17,]    NA    NA    NA    NA    NA    NA    NA    NA    NA    NA       NA\n",
      "[18,]    NA    NA    NA    NA    NA    NA    NA    NA    NA    NA       NA\n",
      "[19,]    NA    NA    NA    NA    NA    NA    NA    NA    NA    NA       NA\n",
      "[20,]    NA    NA    NA    NA    NA    NA    NA    NA    NA    NA 236.5172\n",
      "[21,]    NA    NA    NA    NA    NA    NA    NA    NA    NA    NA       NA\n",
      "[22,]    NA    NA    NA    NA    NA    NA    NA    NA    NA    NA       NA\n",
      "[23,]    NA    NA    NA    NA    NA    NA    NA    NA    NA    NA       NA\n",
      "[24,]    NA    NA    NA    NA    NA    NA    NA    NA    NA    NA       NA\n",
      "[25,]    NA    NA    NA    NA    NA    NA    NA    NA    NA    NA       NA\n",
      "[26,]    NA    NA    NA    NA    NA    NA    NA    NA    NA    NA       NA\n",
      "[27,]    NA    NA    NA    NA    NA    NA    NA    NA    NA    NA       NA\n",
      "[28,]    NA    NA    NA    NA    NA    NA    NA    NA    NA    NA       NA\n",
      "[29,]    NA    NA    NA    NA    NA    NA    NA    NA    NA    NA       NA\n",
      "[30,]    NA    NA    NA    NA    NA    NA    NA    NA    NA    NA 505.3674\n",
      "[31,]    NA    NA    NA    NA    NA    NA    NA    NA    NA    NA       NA\n",
      "[32,]    NA    NA    NA    NA    NA    NA    NA    NA    NA    NA       NA\n",
      "[33,]    NA    NA    NA    NA    NA    NA    NA    NA    NA    NA       NA\n",
      "[34,]    NA    NA    NA    NA    NA    NA    NA    NA    NA    NA       NA\n",
      "[35,]    NA    NA    NA    NA    NA    NA    NA    NA    NA    NA       NA\n",
      "[36,]    NA    NA    NA    NA    NA    NA    NA    NA    NA    NA       NA\n",
      "[37,]    NA    NA    NA    NA    NA    NA    NA    NA    NA    NA       NA\n",
      "[38,]    NA    NA    NA    NA    NA    NA    NA    NA    NA    NA       NA\n",
      "[39,]    NA    NA    NA    NA    NA    NA    NA    NA    NA    NA       NA\n",
      "[40,]    NA    NA    NA    NA    NA    NA    NA    NA    NA    NA       NA\n",
      "[41,]    NA    NA    NA    NA    NA    NA    NA    NA    NA    NA       NA\n",
      "[42,]    NA    NA    NA    NA    NA    NA    NA    NA    NA    NA       NA\n",
      "[43,]    NA    NA    NA    NA    NA    NA    NA    NA    NA    NA       NA\n",
      "[44,]    NA    NA    NA    NA    NA    NA    NA    NA    NA    NA       NA\n",
      "[45,]    NA    NA    NA    NA    NA    NA    NA    NA    NA    NA       NA\n",
      "[46,]    NA    NA    NA    NA    NA    NA    NA    NA    NA    NA       NA\n",
      "[47,]    NA    NA    NA    NA    NA    NA    NA    NA    NA    NA       NA\n",
      "[48,]    NA    NA    NA    NA    NA    NA    NA    NA    NA    NA       NA\n",
      "[49,]    NA    NA    NA    NA    NA    NA    NA    NA    NA    NA       NA\n",
      "[50,]    NA    NA    NA    NA    NA    NA    NA    NA    NA    NA       NA\n",
      "[51,]    NA    NA    NA    NA    NA    NA    NA    NA    NA    NA       NA\n",
      "[52,]    NA    NA    NA    NA    NA    NA    NA    NA    NA    NA       NA\n",
      "[53,]    NA    NA    NA    NA    NA    NA    NA    NA    NA    NA       NA\n",
      "[54,]    NA    NA    NA    NA    NA    NA    NA    NA    NA    NA       NA\n",
      "[55,]    NA    NA    NA    NA    NA    NA    NA    NA    NA    NA       NA\n",
      "[56,]    NA    NA    NA    NA    NA    NA    NA    NA    NA    NA       NA\n",
      "[57,]    NA    NA    NA    NA    NA    NA    NA    NA    NA    NA       NA\n",
      "[58,]    NA    NA    NA    NA    NA    NA    NA    NA    NA    NA       NA\n",
      "      [,22] [,23] [,24] [,25] [,26] [,27] [,28] [,29]    [,30] [,31]    [,32]\n",
      " [1,]    NA    NA    NA    NA    NA    NA    NA    NA       NA    NA       NA\n",
      " [2,]    NA    NA    NA    NA    NA    NA    NA    NA       NA    NA       NA\n",
      " [3,]    NA    NA    NA    NA    NA    NA    NA    NA       NA    NA       NA\n",
      " [4,]    NA    NA    NA    NA    NA    NA    NA    NA       NA    NA       NA\n",
      " [5,]    NA    NA    NA    NA    NA    NA    NA    NA       NA    NA       NA\n",
      " [6,]    NA    NA    NA    NA    NA    NA    NA    NA       NA    NA       NA\n",
      " [7,]    NA    NA    NA    NA    NA    NA    NA    NA       NA    NA       NA\n",
      " [8,]    NA    NA    NA    NA    NA    NA    NA    NA       NA    NA       NA\n",
      " [9,]    NA    NA    NA    NA    NA    NA    NA    NA       NA    NA       NA\n",
      "[10,]    NA    NA    NA    NA    NA    NA    NA    NA       NA    NA       NA\n",
      "[11,]    NA    NA    NA    NA    NA    NA    NA    NA       NA    NA       NA\n",
      "[12,]    NA    NA    NA    NA    NA    NA    NA    NA       NA    NA       NA\n",
      "[13,]    NA    NA    NA    NA    NA    NA    NA    NA       NA    NA       NA\n",
      "[14,]    NA    NA    NA    NA    NA    NA    NA    NA       NA    NA       NA\n",
      "[15,]    NA    NA    NA    NA    NA    NA    NA    NA       NA    NA       NA\n",
      "[16,]    NA    NA    NA    NA    NA    NA    NA    NA       NA    NA       NA\n",
      "[17,]    NA    NA    NA    NA    NA    NA    NA    NA       NA    NA 311.6785\n",
      "[18,]    NA    NA    NA    NA    NA    NA    NA    NA       NA    NA       NA\n",
      "[19,]    NA    NA    NA    NA    NA    NA    NA    NA       NA    NA       NA\n",
      "[20,]    NA    NA    NA    NA    NA    NA    NA    NA       NA    NA       NA\n",
      "[21,]    NA    NA    NA    NA    NA    NA    NA    NA       NA    NA       NA\n",
      "[22,]    NA    NA    NA    NA    NA    NA    NA    NA       NA    NA       NA\n",
      "[23,]    NA    NA    NA    NA    NA    NA    NA    NA       NA    NA       NA\n",
      "[24,]    NA    NA    NA    NA    NA    NA    NA    NA       NA    NA       NA\n",
      "[25,]    NA    NA    NA    NA    NA    NA    NA    NA       NA    NA       NA\n",
      "[26,]    NA    NA    NA    NA    NA    NA    NA    NA       NA    NA       NA\n",
      "[27,]    NA    NA    NA    NA    NA    NA    NA    NA       NA    NA       NA\n",
      "[28,]    NA    NA    NA    NA    NA    NA    NA    NA       NA    NA       NA\n",
      "[29,]    NA    NA    NA    NA    NA    NA    NA    NA       NA    NA       NA\n",
      "[30,]    NA    NA    NA    NA    NA    NA    NA    NA       NA    NA       NA\n",
      "[31,]    NA    NA    NA    NA    NA    NA    NA    NA       NA    NA       NA\n",
      "[32,]    NA    NA    NA    NA    NA    NA    NA    NA       NA    NA       NA\n",
      "[33,]    NA    NA    NA    NA    NA    NA    NA    NA       NA    NA       NA\n",
      "[34,]    NA    NA    NA    NA    NA    NA    NA    NA       NA    NA       NA\n",
      "[35,]    NA    NA    NA    NA    NA    NA    NA    NA       NA    NA       NA\n",
      "[36,]    NA    NA    NA    NA    NA    NA    NA    NA       NA    NA       NA\n",
      "[37,]    NA    NA    NA    NA    NA    NA    NA    NA       NA    NA       NA\n",
      "[38,]    NA    NA    NA    NA    NA    NA    NA    NA       NA    NA       NA\n",
      "[39,]    NA    NA    NA    NA    NA    NA    NA    NA       NA    NA       NA\n",
      "[40,]    NA    NA    NA    NA    NA    NA    NA    NA       NA    NA       NA\n",
      "[41,]    NA    NA    NA    NA    NA    NA    NA    NA       NA    NA       NA\n",
      "[42,]    NA    NA    NA    NA    NA    NA    NA    NA       NA    NA       NA\n",
      "[43,]    NA    NA    NA    NA    NA    NA    NA    NA       NA    NA       NA\n",
      "[44,]    NA    NA    NA    NA    NA    NA    NA    NA       NA    NA       NA\n",
      "[45,]    NA    NA    NA    NA    NA    NA    NA    NA       NA    NA       NA\n",
      "[46,]    NA    NA    NA    NA    NA    NA    NA    NA       NA    NA       NA\n",
      "[47,]    NA    NA    NA    NA    NA    NA    NA    NA       NA    NA       NA\n",
      "[48,]    NA    NA    NA    NA    NA    NA    NA    NA 252.2395    NA 260.5071\n",
      "[49,]    NA    NA    NA    NA    NA    NA    NA    NA       NA    NA       NA\n",
      "[50,]    NA    NA    NA    NA    NA    NA    NA    NA       NA    NA       NA\n",
      "[51,]    NA    NA    NA    NA    NA    NA    NA    NA       NA    NA       NA\n",
      "[52,]    NA    NA    NA    NA    NA    NA    NA    NA       NA    NA       NA\n",
      "[53,]    NA    NA    NA    NA    NA    NA    NA    NA       NA    NA       NA\n",
      "[54,]    NA    NA    NA    NA    NA    NA    NA    NA       NA    NA       NA\n",
      "[55,]    NA    NA    NA    NA    NA    NA    NA    NA       NA    NA       NA\n",
      "[56,]    NA    NA    NA    NA    NA    NA    NA    NA       NA    NA       NA\n",
      "[57,]    NA    NA    NA    NA    NA    NA    NA    NA       NA    NA       NA\n",
      "[58,]    NA    NA    NA    NA    NA    NA    NA    NA       NA    NA       NA\n",
      "      [,33] [,34] [,35]    [,36] [,37]    [,38] [,39] [,40] [,41] [,42] [,43]\n",
      " [1,]    NA    NA    NA       NA    NA       NA    NA    NA    NA    NA    NA\n",
      " [2,]    NA    NA    NA       NA    NA       NA    NA    NA    NA    NA    NA\n",
      " [3,]    NA    NA    NA       NA    NA       NA    NA    NA    NA    NA    NA\n",
      " [4,]    NA    NA    NA       NA    NA       NA    NA    NA    NA    NA    NA\n",
      " [5,]    NA    NA    NA       NA    NA       NA    NA    NA    NA    NA    NA\n",
      " [6,]    NA    NA    NA       NA    NA       NA    NA    NA    NA    NA    NA\n",
      " [7,]    NA    NA    NA       NA    NA       NA    NA    NA    NA    NA    NA\n",
      " [8,]    NA    NA    NA       NA    NA       NA    NA    NA    NA    NA    NA\n",
      " [9,]    NA    NA    NA       NA    NA       NA    NA    NA    NA    NA    NA\n",
      "[10,]    NA    NA    NA       NA    NA       NA    NA    NA    NA    NA    NA\n",
      "[11,]    NA    NA    NA       NA    NA       NA    NA    NA    NA    NA    NA\n",
      "[12,]    NA    NA    NA       NA    NA       NA    NA    NA    NA    NA    NA\n",
      "[13,]    NA    NA    NA       NA    NA       NA    NA    NA    NA    NA    NA\n",
      "[14,]    NA    NA    NA       NA    NA       NA    NA    NA    NA    NA    NA\n",
      "[15,]    NA    NA    NA       NA    NA       NA    NA    NA    NA    NA    NA\n",
      "[16,]    NA    NA    NA       NA    NA       NA    NA    NA    NA    NA    NA\n",
      "[17,]    NA    NA    NA       NA    NA       NA    NA    NA    NA    NA    NA\n",
      "[18,]    NA    NA    NA       NA    NA       NA    NA    NA    NA    NA    NA\n",
      "[19,]    NA    NA    NA       NA    NA       NA    NA    NA    NA    NA    NA\n",
      "[20,]    NA    NA    NA       NA    NA       NA    NA    NA    NA    NA    NA\n",
      "[21,]    NA    NA    NA       NA    NA       NA    NA    NA    NA    NA    NA\n",
      "[22,]    NA    NA    NA       NA    NA       NA    NA    NA    NA    NA    NA\n",
      "[23,]    NA    NA    NA       NA    NA       NA    NA    NA    NA    NA    NA\n",
      "[24,]    NA    NA    NA       NA    NA       NA    NA    NA    NA    NA    NA\n",
      "[25,]    NA    NA    NA       NA    NA       NA    NA    NA    NA    NA    NA\n",
      "[26,]    NA    NA    NA       NA    NA       NA    NA    NA    NA    NA    NA\n",
      "[27,]    NA    NA    NA       NA    NA       NA    NA    NA    NA    NA    NA\n",
      "[28,]    NA    NA    NA       NA    NA       NA    NA    NA    NA    NA    NA\n",
      "[29,]    NA    NA    NA       NA    NA       NA    NA    NA    NA    NA    NA\n",
      "[30,]    NA    NA    NA       NA    NA       NA    NA    NA    NA    NA    NA\n",
      "[31,]    NA    NA    NA       NA    NA       NA    NA    NA    NA    NA    NA\n",
      "[32,]    NA    NA    NA       NA    NA       NA    NA    NA    NA    NA    NA\n",
      "[33,]    NA    NA    NA       NA    NA       NA    NA    NA    NA    NA    NA\n",
      "[34,]    NA    NA    NA       NA    NA       NA    NA    NA    NA    NA    NA\n",
      "[35,]    NA    NA    NA       NA    NA       NA    NA    NA    NA    NA    NA\n",
      "[36,]    NA    NA    NA       NA    NA       NA    NA    NA    NA    NA    NA\n",
      "[37,]    NA    NA    NA       NA    NA       NA    NA    NA    NA    NA    NA\n",
      "[38,]    NA    NA    NA       NA    NA       NA    NA    NA    NA    NA    NA\n",
      "[39,]    NA    NA    NA       NA    NA       NA    NA    NA    NA    NA    NA\n",
      "[40,]    NA    NA    NA       NA    NA       NA    NA    NA    NA    NA    NA\n",
      "[41,]    NA    NA    NA       NA    NA       NA    NA    NA    NA    NA    NA\n",
      "[42,]    NA    NA    NA       NA    NA       NA    NA    NA    NA    NA    NA\n",
      "[43,]    NA    NA    NA       NA    NA       NA    NA    NA    NA    NA    NA\n",
      "[44,]    NA    NA    NA       NA    NA       NA    NA    NA    NA    NA    NA\n",
      "[45,]    NA    NA    NA       NA    NA       NA    NA    NA    NA    NA    NA\n",
      "[46,]    NA    NA    NA       NA    NA       NA    NA    NA    NA    NA    NA\n",
      "[47,]    NA    NA    NA       NA    NA       NA    NA    NA    NA    NA    NA\n",
      "[48,]    NA    NA    NA       NA    NA       NA    NA    NA    NA    NA    NA\n",
      "[49,]    NA    NA    NA 441.1612    NA       NA    NA    NA    NA    NA    NA\n",
      "[50,]    NA    NA    NA       NA    NA       NA    NA    NA    NA    NA    NA\n",
      "[51,]    NA    NA    NA       NA    NA       NA    NA    NA    NA    NA    NA\n",
      "[52,]    NA    NA    NA       NA    NA 280.6103    NA    NA    NA    NA    NA\n",
      "[53,]    NA    NA    NA       NA    NA       NA    NA    NA    NA    NA    NA\n",
      "[54,]    NA    NA    NA       NA    NA       NA    NA    NA    NA    NA    NA\n",
      "[55,]    NA    NA    NA       NA    NA       NA    NA    NA    NA    NA    NA\n",
      "[56,]    NA    NA    NA       NA    NA       NA    NA    NA    NA    NA    NA\n",
      "[57,]    NA    NA    NA       NA    NA       NA    NA    NA    NA    NA    NA\n",
      "[58,]    NA    NA    NA       NA    NA       NA    NA    NA    NA    NA    NA\n"
     ]
    },
    {
     "ename": "ERROR",
     "evalue": "Error in get_invalid_nodes_times(swot_data$width, swot_data$slope2, swot_data$time): object 'bonk' not found\n",
     "output_type": "error",
     "traceback": [
      "Error in get_invalid_nodes_times(swot_data$width, swot_data$slope2, swot_data$time): object 'bonk' not found\nTraceback:\n",
      "1. check_observations(swot_data, sos_data)",
      "2. get_invalid_nodes_times(swot_data$width, swot_data$slope2, swot_data$time)",
      "3. .handleSimpleError(function (cnd) \n . {\n .     watcher$capture_plot_and_output()\n .     cnd <- sanitize_call(cnd)\n .     watcher$push(cnd)\n .     switch(on_error, continue = invokeRestart(\"eval_continue\"), \n .         stop = invokeRestart(\"eval_stop\"), error = invokeRestart(\"eval_error\", \n .             cnd))\n . }, \"object 'bonk' not found\", base::quote(get_invalid_nodes_times(swot_data$width, \n .     swot_data$slope2, swot_data$time)))"
     ]
    }
   ],
   "source": [
    "run_base_path= '/nas/cee-water/cjgleason/nikki/confluence_runs/devsets_ohio_1/sos/'\n",
    "\n",
    "#separate debug on 1/5/25 after devest runs\n",
    "source('/nas/cee-water/cjgleason/colin/neobam/neobam/config.R')\n",
    "source('/nas/cee-water/cjgleason/colin/neobam/neobam/input.R')\n",
    "source('/nas/cee-water/cjgleason/colin/neobam/neobam/neobam_functions.R')\n",
    "source('/nas/cee-water/cjgleason/colin/neobam/neobam/output.R')\n",
    "source('/nas/cee-water/cjgleason/colin/neobam/neobam/prior_functions.R')\n",
    "\n",
    "\n",
    "reach_ids=substr(na_swot,74,84)\n",
    "\n",
    "sos_files=c(paste0(run_base_path,'eu_sword_v16_SOS_priors.nc'),\n",
    "        paste0(run_base_path,'na_sword_v16_SOS_priors.nc'),\n",
    "        paste0(run_base_path,'sa_sword_v16_SOS_priors.nc'),\n",
    "        paste0(run_base_path,'oc_sword_v16_SOS_priors.nc'),\n",
    "        paste0(run_base_path,'af_sword_v16_SOS_priors.nc'),\n",
    "        paste0(run_base_path,'as_sword_v16_SOS_priors.nc'))\n",
    "\n",
    "swot_file=na_swot[2]\n",
    "reach_id=reach_ids[2]\n",
    "sos_file=sos_files[2]\n",
    "\n",
    "print(swot_file)\n",
    " data=get_input(swot_file, sos_file, reach_id)"
   ]
  },
  {
   "cell_type": "code",
   "execution_count": null,
   "id": "d6cdd7de-577b-482d-96d8-7486457133eb",
   "metadata": {},
   "outputs": [],
   "source": []
  }
 ],
 "metadata": {
  "kernelspec": {
   "display_name": "R [conda env:.conda-lightweight]",
   "language": "R",
   "name": "conda-env-.conda-lightweight-r"
  },
  "language_info": {
   "codemirror_mode": "r",
   "file_extension": ".r",
   "mimetype": "text/x-r-source",
   "name": "R",
   "pygments_lexer": "r",
   "version": "4.3.3"
  }
 },
 "nbformat": 4,
 "nbformat_minor": 5
}
